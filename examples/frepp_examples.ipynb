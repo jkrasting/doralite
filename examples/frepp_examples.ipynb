{
 "cells": [
  {
   "cell_type": "markdown",
   "id": "4cc096f2-c50f-49b8-8993-6915c30127a2",
   "metadata": {},
   "source": [
    "## Frepp-aware capabilities\n",
    "\n",
    "Here are a few examples of how the `doralite.frepp` module can be used in different approaches for scripting.\n",
    "\n",
    "The key to this functionality is the `tsgroup` object.  Initialize this object based on a dora ID and component."
   ]
  },
  {
   "cell_type": "code",
   "execution_count": 1,
   "id": "48aaae16-2ecf-4a0e-977a-12452a261134",
   "metadata": {},
   "outputs": [],
   "source": [
    "import doralite as dl"
   ]
  },
  {
   "cell_type": "code",
   "execution_count": 2,
   "id": "008ae951-a98d-46c4-8be5-7dadeb9f5c5d",
   "metadata": {},
   "outputs": [],
   "source": [
    "tsgroup = dl.frepp.tsgroup(\"odiv-485\", \"ocean_monthly\")"
   ]
  },
  {
   "cell_type": "markdown",
   "id": "847e7976-2ccf-47ec-b7a5-16919995513d",
   "metadata": {},
   "source": [
    "##### Generate a list of variables present in a post-processing component directory"
   ]
  },
  {
   "cell_type": "code",
   "execution_count": 3,
   "id": "e0cded8e-0e85-4411-9d0b-7a81da3e43eb",
   "metadata": {},
   "outputs": [
    {
     "name": "stdout",
     "output_type": "stream",
     "text": [
      "['Heat_PmE', 'LwLatSens', 'MLD_003', 'MLD_003_max', 'MLD_003_min', 'MLD_EN1', 'MLD_EN1_max', 'MLD_EN1_min', 'MLD_EN2', 'MLD_EN3', 'SSH', 'S_adx_2d', 'S_ady_2d', 'T_adx_2d', 'T_ady_2d', 'col_height', 'col_mass', 'ePBL_h_ML', 'evs', 'ficeberg', 'friver', 'fsitherm', 'heat_content_cond', 'heat_content_fprec', 'heat_content_massin', 'heat_content_massout', 'heat_content_surfwater', 'heat_content_vprec', 'hf_CAu_2d', 'hf_CAv_2d', 'hf_PFu_2d', 'hf_PFv_2d', 'hf_diffu_2d', 'hf_diffv_2d', 'hf_du_dt_visc_2d', 'hf_dudt_2d', 'hf_dv_dt_visc_2d', 'hf_dvdt_2d', 'hf_gKEu_2d', 'hf_gKEv_2d', 'hf_rvxu_2d', 'hf_rvxv_2d', 'hf_u_BT_accel_2d', 'hf_v_BT_accel_2d', 'hfds', 'hfevapds', 'hfibthermds', 'hflso', 'hfrainds', 'hfrunoffds', 'hfsifrazil', 'hfsnthermds', 'hfsso', 'intz_CAu_2d', 'intz_CAv_2d', 'intz_PFu_2d', 'intz_PFv_2d', 'intz_diffu_2d', 'intz_diffv_2d', 'intz_gKEu_2d', 'intz_gKEv_2d', 'intz_rvxu_2d', 'intz_rvxv_2d', 'intz_u_BT_accel_2d', 'intz_v_BT_accel_2d', 'mass_wt', 'net_heat_coupler', 'net_massin', 'net_massout', 'nonpenSW', 'opottempmint', 'pbo', 'prlq', 'prsn', 'rlntds', 'rsdo', 'rsntds', 'salt_flux_added', 'sfdsi', 'sob', 'somint', 'sos', 'ssh_ga', 'tauuo', 'tauvo', 'taux', 'taux_bot', 'tauy', 'tauy_bot', 'tob', 'tos', 'ubt_dt', 'umo_2d', 'ustar', 'vbt_dt', 'vmo_2d', 'volcello', 'vprec', 'wfo', 'zos', 'zossq']\n"
     ]
    }
   ],
   "source": [
    "print(tsgroup.variables)"
   ]
  },
  {
   "cell_type": "markdown",
   "id": "bc7036c6-30d1-4d47-901f-93e920e9df65",
   "metadata": {},
   "source": [
    "##### Generate a list of time frequencies of post-processed output"
   ]
  },
  {
   "cell_type": "code",
   "execution_count": 4,
   "id": "ccde99d8-272b-4919-a292-88b897e316f7",
   "metadata": {},
   "outputs": [
    {
     "name": "stdout",
     "output_type": "stream",
     "text": [
      "['monthly/5yr']\n"
     ]
    }
   ],
   "source": [
    "print(tsgroup.freqs)"
   ]
  },
  {
   "cell_type": "markdown",
   "id": "937b2e32-fb9a-4d82-b08d-4f858e52e44d",
   "metadata": {},
   "source": [
    "##### Generate a list of missing time chunks (gaps in postprocessing; ending year of period is shown)"
   ]
  },
  {
   "cell_type": "code",
   "execution_count": 5,
   "id": "ef755654-00d7-470c-95f5-128336745751",
   "metadata": {},
   "outputs": [
    {
     "name": "stdout",
     "output_type": "stream",
     "text": [
      "[1962, 1967, 1972, 1977, 1982, 2002, 2007, 2012, 2017]\n"
     ]
    }
   ],
   "source": [
    "print(tsgroup.missing)"
   ]
  },
  {
   "cell_type": "markdown",
   "id": "ed884feb-95f6-42f8-b7a8-edf6806f6e8d",
   "metadata": {},
   "source": [
    "##### Working with the `freppfile` object"
   ]
  },
  {
   "cell_type": "code",
   "execution_count": 6,
   "id": "64cc46ec-6c46-4a91-ad3b-228b161a1f10",
   "metadata": {},
   "outputs": [
    {
     "name": "stdout",
     "output_type": "stream",
     "text": [
      "/archive/John.Krasting/fre_om5/FMS2024.02_om5_20250206/om5_b08_WOA23/gfdl.ncrc5-intel23-prod/pp/ocean_monthly/ts/monthly/5yr/ocean_monthly.198301-198712.Heat_PmE.nc\n",
      "ocean_monthly.198301-198712.Heat_PmE.nc\n",
      "Heat_PmE\n",
      "monthly/5yr\n",
      "ocean_monthly\n",
      "198301-198712\n",
      "1983\n",
      "1987\n"
     ]
    }
   ],
   "source": [
    "files = tsgroup.files   # generates a list of `freppfile` objects\n",
    "\n",
    "file = files[0]\n",
    "\n",
    "print(str(file)) # string representation of full path\n",
    "print(file.filename)  # base file name\n",
    "print(file.variable)  # variable name\n",
    "print(file.freq)  # timeseries frequency\n",
    "print(file.component) # frepp component\n",
    "print(file.timeperiod)\n",
    "print(file.startyear)\n",
    "print(file.endyear)"
   ]
  },
  {
   "cell_type": "markdown",
   "id": "bb2698e7-2537-49c5-8937-b558f540c9c0",
   "metadata": {},
   "source": [
    "##### Working with the `history` class"
   ]
  },
  {
   "cell_type": "code",
   "execution_count": 7,
   "id": "4db04a4e-2a31-4e1c-a98f-2ff42e44581f",
   "metadata": {},
   "outputs": [
    {
     "name": "stdout",
     "output_type": "stream",
     "text": [
      "/archive/John.Krasting/fre_om5/FMS2024.02_om5_20250206/om5_b08_WOA23/gfdl.ncrc5-intel23-prod/history/\n",
      "True\n",
      "['19580101.nc.tar', '19590101.nc.tar', '19600101.nc.tar', '19610101.nc.tar', '19620101.nc.tar', '19630101.nc.tar', '19640101.nc.tar', '19650101.nc.tar', '19660101.nc.tar', '19670101.nc.tar', '19680101.nc.tar', '19690101.nc.tar', '19700101.nc.tar', '19710101.nc.tar', '19720101.nc.tar', '19730101.nc.tar', '19740101.nc.tar', '19750101.nc.tar', '19760101.nc.tar', '19770101.nc.tar', '19780101.nc.tar', '19790101.nc.tar', '19800101.nc.tar', '19810101.nc.tar', '19820101.nc.tar', '19830101.nc.tar', '19840101.nc.tar', '19850101.nc.tar', '19860101.nc.tar', '19870101.nc.tar', '19880101.nc.tar', '19890101.nc.tar', '19900101.nc.tar', '19910101.nc.tar', '19920101.nc.tar', '19930101.nc.tar', '19940101.nc.tar', '19950101.nc.tar', '19960101.nc.tar', '19970101.nc.tar', '19980101.nc.tar', '19990101.nc.tar', '20000101.nc.tar', '20010101.nc.tar', '20020101.nc.tar', '20030101.nc.tar', '20040101.nc.tar', '20050101.nc.tar', '20060101.nc.tar', '20070101.nc.tar', '20080101.nc.tar', '20090101.nc.tar', '20100101.nc.tar', '20110101.nc.tar', '20120101.nc.tar', '20130101.nc.tar', '20140101.nc.tar', '20150101.nc.tar', '20160101.nc.tar', '20170101.nc.tar', '20180101.nc.tar']\n",
      "[]\n",
      "[1958, 1959, 1960, 1961, 1962, 1963, 1964, 1965, 1966, 1967, 1968, 1969, 1970, 1971, 1972, 1973, 1974, 1975, 1976, 1977, 1978, 1979, 1980, 1981, 1982, 1983, 1984, 1985, 1986, 1987, 1988, 1989, 1990, 1991, 1992, 1993, 1994, 1995, 1996, 1997, 1998, 1999, 2000, 2001, 2002, 2003, 2004, 2005, 2006, 2007, 2008, 2009, 2010, 2011, 2012, 2013, 2014, 2015, 2016, 2017, 2018]\n"
     ]
    }
   ],
   "source": [
    "history = tsgroup.history\n",
    "\n",
    "print(history.directory)  # Path to history directory\n",
    "print(history.consecutive()) # logical if the history record is contiguous\n",
    "print(history.files)  # list of history tar files\n",
    "print(history.gaps()) # List of any gaps in the history file record\n",
    "print(history.years) # Integer years of history files"
   ]
  },
  {
   "cell_type": "markdown",
   "id": "87a18c78-b8f4-43a7-ade0-7b704934d677",
   "metadata": {},
   "source": [
    "##### Generate a list of commands to repair the postprocessing"
   ]
  },
  {
   "cell_type": "code",
   "execution_count": 8,
   "id": "c4c44027-f239-4257-b9af-fc800afbddae",
   "metadata": {},
   "outputs": [
    {
     "data": {
      "text/plain": [
       "['rm -f /home/John.Krasting/fre_om5/FMS2024.02_om5_20250206/om5_b08_WOA23/gfdl.ncrc5-intel23-prod/state/postProcess/ocean_monthly.1962 /home/John.Krasting/fre_om5/FMS2024.02_om5_20250206/om5_b08_WOA23/gfdl.ncrc5-intel23-prod/state/postProcess/ocean_monthly.1967 /home/John.Krasting/fre_om5/FMS2024.02_om5_20250206/om5_b08_WOA23/gfdl.ncrc5-intel23-prod/state/postProcess/ocean_monthly.1972 /home/John.Krasting/fre_om5/FMS2024.02_om5_20250206/om5_b08_WOA23/gfdl.ncrc5-intel23-prod/state/postProcess/ocean_monthly.1977 /home/John.Krasting/fre_om5/FMS2024.02_om5_20250206/om5_b08_WOA23/gfdl.ncrc5-intel23-prod/state/postProcess/ocean_monthly.1982',\n",
       " 'frepp -s -x /home/jpk/ncrc/om5/ocean-only/b08/om5_b08_WOA23.xml -t 1962 -P gfdl.ncrc5-intel23 -T prod -d /archive/John.Krasting/fre_om5/FMS2024.02_om5_20250206/om5_b08_WOA23/gfdl.ncrc5-intel23-prod/history/ -c ocean_monthly om5_b08_WOA23',\n",
       " 'frepp -s -x /home/jpk/ncrc/om5/ocean-only/b08/om5_b08_WOA23.xml -t 1967 -P gfdl.ncrc5-intel23 -T prod -d /archive/John.Krasting/fre_om5/FMS2024.02_om5_20250206/om5_b08_WOA23/gfdl.ncrc5-intel23-prod/history/ -c ocean_monthly om5_b08_WOA23',\n",
       " 'frepp -s -x /home/jpk/ncrc/om5/ocean-only/b08/om5_b08_WOA23.xml -t 1972 -P gfdl.ncrc5-intel23 -T prod -d /archive/John.Krasting/fre_om5/FMS2024.02_om5_20250206/om5_b08_WOA23/gfdl.ncrc5-intel23-prod/history/ -c ocean_monthly om5_b08_WOA23',\n",
       " 'frepp -s -x /home/jpk/ncrc/om5/ocean-only/b08/om5_b08_WOA23.xml -t 1977 -P gfdl.ncrc5-intel23 -T prod -d /archive/John.Krasting/fre_om5/FMS2024.02_om5_20250206/om5_b08_WOA23/gfdl.ncrc5-intel23-prod/history/ -c ocean_monthly om5_b08_WOA23',\n",
       " 'frepp -s -x /home/jpk/ncrc/om5/ocean-only/b08/om5_b08_WOA23.xml -t 1982 -P gfdl.ncrc5-intel23 -T prod -d /archive/John.Krasting/fre_om5/FMS2024.02_om5_20250206/om5_b08_WOA23/gfdl.ncrc5-intel23-prod/history/ -c ocean_monthly om5_b08_WOA23',\n",
       " 'frepp -s -x /home/jpk/ncrc/om5/ocean-only/b08/om5_b08_WOA23.xml -t 2002 -P gfdl.ncrc5-intel23 -T prod -d /archive/John.Krasting/fre_om5/FMS2024.02_om5_20250206/om5_b08_WOA23/gfdl.ncrc5-intel23-prod/history/ -c ocean_monthly om5_b08_WOA23',\n",
       " 'frepp -s -x /home/jpk/ncrc/om5/ocean-only/b08/om5_b08_WOA23.xml -t 2007 -P gfdl.ncrc5-intel23 -T prod -d /archive/John.Krasting/fre_om5/FMS2024.02_om5_20250206/om5_b08_WOA23/gfdl.ncrc5-intel23-prod/history/ -c ocean_monthly om5_b08_WOA23',\n",
       " 'frepp -s -x /home/jpk/ncrc/om5/ocean-only/b08/om5_b08_WOA23.xml -t 2012 -P gfdl.ncrc5-intel23 -T prod -d /archive/John.Krasting/fre_om5/FMS2024.02_om5_20250206/om5_b08_WOA23/gfdl.ncrc5-intel23-prod/history/ -c ocean_monthly om5_b08_WOA23',\n",
       " 'frepp -s -x /home/jpk/ncrc/om5/ocean-only/b08/om5_b08_WOA23.xml -t 2017 -P gfdl.ncrc5-intel23 -T prod -d /archive/John.Krasting/fre_om5/FMS2024.02_om5_20250206/om5_b08_WOA23/gfdl.ncrc5-intel23-prod/history/ -c ocean_monthly om5_b08_WOA23']"
      ]
     },
     "execution_count": 8,
     "metadata": {},
     "output_type": "execute_result"
    }
   ],
   "source": [
    "tsgroup.repair()"
   ]
  }
 ],
 "metadata": {
  "kernelspec": {
   "display_name": "Python 3 (ipykernel)",
   "language": "python",
   "name": "python3"
  },
  "language_info": {
   "codemirror_mode": {
    "name": "ipython",
    "version": 3
   },
   "file_extension": ".py",
   "mimetype": "text/x-python",
   "name": "python",
   "nbconvert_exporter": "python",
   "pygments_lexer": "ipython3",
   "version": "3.11.6"
  }
 },
 "nbformat": 4,
 "nbformat_minor": 5
}
